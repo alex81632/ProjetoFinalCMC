{
 "cells": [
  {
   "cell_type": "code",
   "execution_count": 22,
   "metadata": {},
   "outputs": [],
   "source": [
    "exemple = [\"dog\", \"deer\", \"deal\", \"death\", \"dean\", \"dear\", \"dare\"]\n",
    "exemple.sort()\n",
    "\n",
    "def get_matches(word):\n",
    "    matches = []\n",
    "    for w in exemple:\n",
    "        if w.startswith(word):\n",
    "            matches.append(w)\n",
    "    return matches"
   ]
  },
  {
   "cell_type": "code",
   "execution_count": 23,
   "metadata": {},
   "outputs": [
    {
     "name": "stdout",
     "output_type": "stream",
     "text": [
      "\n"
     ]
    }
   ],
   "source": [
    "import tkinter as tk\n",
    "\n",
    "class AutocompleteText(tk.Text):\n",
    "    def __init__(self, *args, **kwargs):\n",
    "        self.callback = kwargs.pop(\"autocomplete\", None)\n",
    "        super().__init__(*args, **kwargs)\n",
    "        self.bind(\"<Any-KeyRelease>\", self._autocomplete)\n",
    "        self.bind(\"<Tab>\", self._handle_tab)\n",
    "        self.bind(\"<Button-1>\", self.click)\n",
    "\n",
    "    def _handle_tab(self, event):\n",
    "        tag_ranges= self.tag_ranges(\"autocomplete\")\n",
    "        if tag_ranges:\n",
    "            self.mark_set(\"insert\", tag_ranges[1])\n",
    "            self.tag_remove(\"sel\", \"1.0\", \"end\")\n",
    "            self.tag_remove(\"autocomplete\", \"1.0\", \"end\")\n",
    "\n",
    "            return \"break\"\n",
    "\n",
    "    def _autocomplete(self, event):\n",
    "        if event.char and self.callback:\n",
    "            word = self.get(\"insert-1c wordstart\", \"insert-1c wordend\")\n",
    "\n",
    "            matches = self.callback(word)\n",
    "\n",
    "            if matches:\n",
    "                remainder = matches[0][len(word):]\n",
    "                insert = self.index(\"insert\")\n",
    "                self.insert(insert, remainder, (\"sel\", \"autocomplete\"))\n",
    "                self.mark_set(\"insert\", insert)\n",
    "            \n",
    "            texto = \"Outras Sugestões: \\n\"\n",
    "            for match in matches[1:]:\n",
    "                texto += match + \"\\n\"\n",
    "            texto_outras_opcoes[\"text\"] = texto\n",
    "            \n",
    "\n",
    "    # quando clicar na dentro da caixa de texto, print da linha e coluna\n",
    "    def click(self, event):\n",
    "        linha = int(self.index(tk.INSERT).split(\".\")[0])\n",
    "        linha += 1\n",
    "        linha = str(linha)\n",
    "        #pegar o texto da linha\n",
    "        texto = self.get(linha + \".0\", linha + \".end\")\n",
    "        print(texto)\n",
    "          \n",
    "\n",
    "\n",
    "root = tk.Tk()\n",
    "\n",
    "# titulo\n",
    "root.title(\"Autocomplete\")\n",
    "\n",
    "# Fullscreen\n",
    "root.attributes(\"-fullscreen\", True)\n",
    "\n",
    "# Label\n",
    "label = tk.Label(root, text=\"Digite uma palavra: \")\n",
    "label.pack(padx=10, pady=10)\n",
    "\n",
    "# texto\n",
    "text = AutocompleteText(root, autocomplete=get_matches)\n",
    "text.pack(padx=10, pady=10)\n",
    "\n",
    "# Outras opções\n",
    "texto_outras_opcoes = tk.Label(root, text=\"Outras opções: \")\n",
    "texto_outras_opcoes.pack(padx=10, pady=10)\n",
    "\n",
    "root.mainloop()"
   ]
  }
 ],
 "metadata": {
  "kernelspec": {
   "display_name": "base",
   "language": "python",
   "name": "python3"
  },
  "language_info": {
   "codemirror_mode": {
    "name": "ipython",
    "version": 3
   },
   "file_extension": ".py",
   "mimetype": "text/x-python",
   "name": "python",
   "nbconvert_exporter": "python",
   "pygments_lexer": "ipython3",
   "version": "3.10.9"
  }
 },
 "nbformat": 4,
 "nbformat_minor": 2
}
