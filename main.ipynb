{
 "cells": [
  {
   "cell_type": "markdown",
   "metadata": {},
   "source": [
    "# Exame - FST - CTC-34"
   ]
  },
  {
   "cell_type": "markdown",
   "metadata": {},
   "source": [
    "## Exemplos"
   ]
  },
  {
   "cell_type": "code",
   "execution_count": 1,
   "metadata": {},
   "outputs": [],
   "source": [
    "from FST import FST as FST\n",
    "from FST_Otimizado import FST_Otimizado as FST_Otimizado\n",
    "from BS import BS as BS"
   ]
  },
  {
   "cell_type": "code",
   "execution_count": 2,
   "metadata": {},
   "outputs": [],
   "source": [
    "palavras_de_teste = ['mon', 'thurs', 'tues','tye', 'zon']\n",
    "\n",
    "palavras_de_teste1 = [\"A's\", \"AA's\", 'Actaeon', 'Acton', 'Acts', 'Acuff']\n",
    "\n",
    "palavras_de_teste2 = ['apr', 'aug', 'mar', 'may']\n",
    "\n",
    "palavras_de_teste3 = ['aab111','aab222','aab333','ab111', 'ab222', 'ab333']\n",
    "\n",
    "palavras_de_teste4 = ['a', 'aa', 'aaa', 'aaaa', 'aaaaa', 'aaaaaa', 'aaaaaaa', 'aaaaaaaa', 'aaaaaaaaa', 'aaaaaaaaaa', 'b', 'ba']"
   ]
  },
  {
   "cell_type": "code",
   "execution_count": 3,
   "metadata": {},
   "outputs": [],
   "source": [
    "fst = FST(words=palavras_de_teste2)"
   ]
  },
  {
   "cell_type": "code",
   "execution_count": 4,
   "metadata": {},
   "outputs": [
    {
     "name": "stdout",
     "output_type": "stream",
     "text": [
      "Número de nós: 7\n"
     ]
    },
    {
     "data": {
      "text/plain": [
       "'fst_inverso.dot.png'"
      ]
     },
     "execution_count": 4,
     "metadata": {},
     "output_type": "execute_result"
    }
   ],
   "source": [
    "fst.imprimir()\n",
    "fst.imprimir_inverso()\n",
    "\n",
    "from graphviz import render\n",
    "\n",
    "arquivo = 'fst.dot'\n",
    "arquivo2 = 'fst_inverso.dot'\n",
    "\n",
    "render('dot', 'png', arquivo)\n",
    "render('dot', 'png', arquivo2)"
   ]
  },
  {
   "cell_type": "markdown",
   "metadata": {},
   "source": [
    "## Completo"
   ]
  },
  {
   "cell_type": "markdown",
   "metadata": {},
   "source": [
    "#### Palavras"
   ]
  },
  {
   "cell_type": "code",
   "execution_count": 5,
   "metadata": {},
   "outputs": [
    {
     "name": "stdout",
     "output_type": "stream",
     "text": [
      "Numero de palavras:  99119\n"
     ]
    }
   ],
   "source": [
    "data = open('words.txt', 'r')\n",
    "words = []\n",
    "for line in data:\n",
    "    line = line.strip()\n",
    "    if len(line) == 1:\n",
    "        continue\n",
    "    \n",
    "    words.append(line)\n",
    "\n",
    "print(\"Numero de palavras: \", len(words))"
   ]
  },
  {
   "cell_type": "markdown",
   "metadata": {},
   "source": [
    "#### Build"
   ]
  },
  {
   "cell_type": "code",
   "execution_count": 6,
   "metadata": {},
   "outputs": [],
   "source": [
    "fst_otimizado = FST_Otimizado(words=words)"
   ]
  },
  {
   "cell_type": "code",
   "execution_count": 7,
   "metadata": {},
   "outputs": [],
   "source": [
    "bs = BS(words=words)"
   ]
  },
  {
   "cell_type": "markdown",
   "metadata": {},
   "source": [
    "#### Funções de Busca"
   ]
  },
  {
   "cell_type": "code",
   "execution_count": 8,
   "metadata": {},
   "outputs": [],
   "source": [
    "def matches_fst(word):\n",
    "    matches = fst_otimizado.checar_combinacoes(word)\n",
    "    return matches"
   ]
  },
  {
   "cell_type": "code",
   "execution_count": 9,
   "metadata": {},
   "outputs": [],
   "source": [
    "def matches_bs(word):\n",
    "    matches = bs.checar_combinacoes(word)\n",
    "    return matches"
   ]
  },
  {
   "cell_type": "markdown",
   "metadata": {},
   "source": [
    "#### Comprovação de Corretude"
   ]
  },
  {
   "cell_type": "code",
   "execution_count": 10,
   "metadata": {},
   "outputs": [
    {
     "name": "stdout",
     "output_type": "stream",
     "text": [
      "Palavras encontradas pelo método FST:  99119\n",
      "Palavras do dicionario:  99119\n"
     ]
    }
   ],
   "source": [
    "match1 = matches_fst(\"\")\n",
    "\n",
    "print(\"Palavras encontradas pelo método FST: \", len(match1))\n",
    "print(\"Palavras do dicionario: \", len(words))\n",
    "\n",
    "# for m in match1:\n",
    "#     if m not in match2:\n",
    "#         print(\"Erro: \" + m + \" não não foi encontrado pelo método FST\")\n",
    "\n",
    "# for m in words:\n",
    "#     if m not in match1:\n",
    "#         print(\"Erro: \" + m + \" não está na lista de palavras encontradas pelo método FST\")"
   ]
  },
  {
   "cell_type": "code",
   "execution_count": 11,
   "metadata": {},
   "outputs": [
    {
     "name": "stdout",
     "output_type": "stream",
     "text": [
      "Total de prefixos:  160400\n"
     ]
    }
   ],
   "source": [
    "prefixos = set()\n",
    "for w in words:\n",
    "    for i in range(1, len(w)):\n",
    "        prefixos.add(w[:i])\n",
    "\n",
    "print(\"Total de prefixos: \", len(prefixos))"
   ]
  },
  {
   "cell_type": "code",
   "execution_count": 12,
   "metadata": {},
   "outputs": [],
   "source": [
    "for p in prefixos:\n",
    "    match1 = matches_fst(p)\n",
    "    match2 = matches_bs(p)\n",
    "    if len(match1) != len(match2):\n",
    "        print(\"Erro: \" + p + \" não foi encontrado pelo método FST\")"
   ]
  },
  {
   "cell_type": "markdown",
   "metadata": {},
   "source": [
    "#### Comparativos de Tempo"
   ]
  },
  {
   "cell_type": "code",
   "execution_count": 13,
   "metadata": {},
   "outputs": [],
   "source": [
    "# import timeit\n",
    "\n",
    "# temps_fst = []\n",
    "# temps_bs = []\n",
    "# lens = []\n",
    "# for p in prefixos:\n",
    "#     temp1 = timeit.timeit(\"matches_fst(p)\", number=1, globals=globals())\n",
    "#     temp2 = timeit.timeit(\"matches_bs(p)\", number=1, globals=globals())\n",
    "#     temps_fst.append(temp1)\n",
    "#     temps_bs.append(temp2)   \n",
    "#     lens.append(len(p)) "
   ]
  },
  {
   "cell_type": "code",
   "execution_count": 14,
   "metadata": {},
   "outputs": [],
   "source": [
    "# import matplotlib.pyplot as plt\n",
    "\n",
    "# plt.plot(lens, temps_fst, label=\"FST\")\n",
    "# plt.plot(lens, temps_bs, label=\"BS\")\n",
    "# plt.legend()\n",
    "# plt.show()"
   ]
  },
  {
   "cell_type": "code",
   "execution_count": 15,
   "metadata": {},
   "outputs": [],
   "source": [
    "# print(\"Tempo Médio FST: \", sum(temps_fst)/len(temps_fst))"
   ]
  },
  {
   "cell_type": "code",
   "execution_count": 16,
   "metadata": {},
   "outputs": [],
   "source": [
    "# print(\"Tempo Médio BS: \", sum(temps_bs)/len(temps_bs))"
   ]
  },
  {
   "cell_type": "markdown",
   "metadata": {},
   "source": [
    "#### Comparativos de Espaço"
   ]
  },
  {
   "cell_type": "code",
   "execution_count": 13,
   "metadata": {},
   "outputs": [],
   "source": [
    "from pympler import asizeof\n",
    "\n",
    "fst_otimizado.otimizar_memoria()"
   ]
  },
  {
   "cell_type": "code",
   "execution_count": 14,
   "metadata": {},
   "outputs": [
    {
     "name": "stdout",
     "output_type": "stream",
     "text": [
      "Tamanho do FST:  60.97505187988281 MB\n",
      "Tamanho do BS:  20.145042419433594 MB\n"
     ]
    }
   ],
   "source": [
    "print(\"Tamanho do FST: \", asizeof.asizeof(fst_otimizado) / 1024 / 1024, \"MB\")\n",
    "print(\"Tamanho do BS: \", asizeof.asizeof(bs) / 1024 / 1024, \"MB\")"
   ]
  },
  {
   "cell_type": "markdown",
   "metadata": {},
   "source": [
    "## Le..."
   ]
  },
  {
   "cell_type": "code",
   "execution_count": null,
   "metadata": {},
   "outputs": [],
   "source": []
  },
  {
   "cell_type": "markdown",
   "metadata": {},
   "source": [
    "## AutoComplete"
   ]
  },
  {
   "cell_type": "code",
   "execution_count": null,
   "metadata": {},
   "outputs": [],
   "source": [
    "def matches_fst(word):\n",
    "    resp = fst_otimizado.checar_combinacoes(word)\n",
    "    resp.sort()\n",
    "    #print(\"Total de palavras encontradas: \" + str(len(resp)) + \"\\n\")\n",
    "    return resp[:5]"
   ]
  },
  {
   "cell_type": "code",
   "execution_count": null,
   "metadata": {},
   "outputs": [],
   "source": [
    "def matches_bs(word):\n",
    "    num_words = len(words)\n",
    "    matches = []\n",
    "    cont = 0\n",
    "    ini = 0\n",
    "    fim = num_words - 1\n",
    "    atual = 0\n",
    "    \n",
    "    while ini <= fim:\n",
    "        atual = (ini + fim) // 2\n",
    "        if (words[atual].startswith(word)):\n",
    "            fim = -1\n",
    "        elif (words[atual] > word):\n",
    "            fim = atual - 1\n",
    "        else:\n",
    "            ini = atual + 1\n",
    "    \n",
    "    while words[atual-1].startswith(word):\n",
    "        atual -= 1\n",
    "\n",
    "    while words[atual].startswith(word) and atual < len(words)-1:\n",
    "        matches.append(words[atual])\n",
    "        cont += 1\n",
    "        atual += 1\n",
    "\n",
    "    if atual == len(words)-1:\n",
    "        if words[atual].startswith(word):\n",
    "            matches.append(words[atual])\n",
    "            cont += 1\n",
    "\n",
    "    #print(\"Total de palavras encontradas: \" + str(len(matches)) + \"\\n\")\n",
    "    return matches[:5]"
   ]
  },
  {
   "cell_type": "code",
   "execution_count": null,
   "metadata": {},
   "outputs": [],
   "source": [
    "import tkinter as tk\n",
    "import timeit\n",
    "\n",
    "class AutocompleteText(tk.Text):\n",
    "    def __init__(self, *args, **kwargs):\n",
    "        self.callback = kwargs.pop(\"autocomplete\", None)\n",
    "        self.comparativo1 = kwargs.pop(\"comparativo1\", None)\n",
    "        super().__init__(*args, **kwargs)\n",
    "        self.bind(\"<Any-KeyRelease>\", self._autocomplete)\n",
    "        self.bind(\"<Tab>\", self._handle_tab)\n",
    "\n",
    "    def _handle_tab(self, event):\n",
    "        tag_ranges= self.tag_ranges(\"autocomplete\")\n",
    "        if tag_ranges:\n",
    "            self.mark_set(\"insert\", tag_ranges[1])\n",
    "            self.tag_remove(\"sel\", \"1.0\", \"end\")\n",
    "            self.tag_remove(\"autocomplete\", \"1.0\", \"end\")\n",
    "\n",
    "            return \"break\"\n",
    "\n",
    "    def _autocomplete(self, event):\n",
    "        if event.char and self.callback:\n",
    "            word = self.get(\"insert-1c wordstart\", \"insert-1c wordend\")\n",
    "            inicio = timeit.default_timer()\n",
    "            matches = self.callback(word)\n",
    "            fim = timeit.default_timer()\n",
    "\n",
    "            inicio2 = timeit.default_timer()\n",
    "            matches2 = self.comparativo1(word)\n",
    "            fim2 = timeit.default_timer()\n",
    "\n",
    "            text_tempo1[\"text\"] = \"Tempo de atualização FST: \" + str(round((fim - inicio)*1000,3)) + \" ms\"\n",
    "\n",
    "            text_tempo2[\"text\"] = \"Tempo de atualização BS: \" + str(round((fim2 - inicio2)*1000,3)) + \" ms\"\n",
    "\n",
    "            if matches:\n",
    "                remainder = matches[0][len(word):]\n",
    "                insert = self.index(\"insert\")\n",
    "                self.insert(insert, remainder, (\"sel\", \"autocomplete\"))\n",
    "                self.mark_set(\"insert\", insert)\n",
    "            \n",
    "            texto = \"Outras Sugestões: \\n\"\n",
    "            for match in matches[1:]:\n",
    "                texto += match + \"\\n\"\n",
    "            texto_outras_opcoes[\"text\"] = texto\n",
    "            \n",
    "\n",
    "root = tk.Tk()\n",
    "\n",
    "# titulo\n",
    "root.title(\"Autocomplete\")\n",
    "\n",
    "# tamanho da janela\n",
    "root.geometry(\"300x650\")\n",
    "\n",
    "# Label\n",
    "label = tk.Label(root, text=\"Digite uma palavra: \")\n",
    "label.pack(padx=10, pady=10)\n",
    "\n",
    "# texto\n",
    "text = AutocompleteText(root, autocomplete=matches_fst, comparativo1 = matches_bs)\n",
    "text.pack(padx=10, pady=10)\n",
    "\n",
    "# Outras opções\n",
    "texto_outras_opcoes = tk.Label(root, text=\"Outras opções: \")\n",
    "texto_outras_opcoes.pack(padx=10, pady=10)\n",
    "\n",
    "# tempo de atualização\n",
    "text_tempo1 = tk.Label(root, text=\"Tempo de atualização FST: \")\n",
    "text_tempo1.pack(padx=10, pady=5)\n",
    "\n",
    "# tempo de atualização\n",
    "text_tempo2 = tk.Label(root, text=\"Tempo de atualização BS: \")\n",
    "text_tempo2.pack(padx=10, pady=5)\n",
    "\n",
    "root.mainloop()"
   ]
  }
 ],
 "metadata": {
  "kernelspec": {
   "display_name": "base",
   "language": "python",
   "name": "python3"
  },
  "language_info": {
   "codemirror_mode": {
    "name": "ipython",
    "version": 3
   },
   "file_extension": ".py",
   "mimetype": "text/x-python",
   "name": "python",
   "nbconvert_exporter": "python",
   "pygments_lexer": "ipython3",
   "version": "3.10.9"
  }
 },
 "nbformat": 4,
 "nbformat_minor": 2
}
