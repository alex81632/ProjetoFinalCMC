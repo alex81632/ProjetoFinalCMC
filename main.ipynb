{
 "cells": [
  {
   "cell_type": "code",
   "execution_count": 1,
   "metadata": {},
   "outputs": [
    {
     "name": "stdout",
     "output_type": "stream",
     "text": [
      "99119\n"
     ]
    }
   ],
   "source": [
    "#dict\n",
    "data = open('words.txt', 'r')\n",
    "words = []\n",
    "for line in data:\n",
    "    line = line.strip()\n",
    "    if len(line) == 1:\n",
    "        continue\n",
    "    \n",
    "    words.append(line)\n",
    "\n",
    "print(len(words))\n",
    "\n",
    "# words = words[80:89]"
   ]
  },
  {
   "cell_type": "code",
   "execution_count": 6,
   "metadata": {},
   "outputs": [],
   "source": [
    "from FST import FST as FST"
   ]
  },
  {
   "cell_type": "code",
   "execution_count": 7,
   "metadata": {},
   "outputs": [],
   "source": [
    "\n",
    "\n",
    "# palavras_de_teste = ['mon', 'thurs', 'tues','tye', 'zon']\n",
    "\n",
    "# palavras_de_teste1 = [\"A's\", \"AA's\", 'Actaeon', 'Acton', 'Acts', 'Acuff']\n",
    "\n",
    "# palavras_de_teste2 = ['apr', 'aug', 'mar', 'may']\n",
    "\n",
    "# palavras_de_teste3 = ['aab111','aab222','aab333','ab111', 'ab222', 'ab333']\n",
    "\n",
    "# palavras_de_teste4 = ['a', 'aa', 'aaa', 'aaaa', 'aaaaa', 'aaaaaa', 'aaaaaaa', 'aaaaaaaa', 'aaaaaaaaa', 'aaaaaaaaaa', 'b', 'ba']\n",
    "\n",
    "fst = FST(words=words)"
   ]
  },
  {
   "cell_type": "code",
   "execution_count": 3,
   "metadata": {},
   "outputs": [
    {
     "name": "stdout",
     "output_type": "stream",
     "text": [
      "Número de nós: 110376\n"
     ]
    }
   ],
   "source": [
    "fst.imprimir()\n",
    "fst.imprimir_inverso()\n",
    "\n",
    "# from graphviz import render\n",
    "\n",
    "# arquivo = 'fst.dot'\n",
    "# arquivo2 = 'fst_inverso.dot'\n",
    "\n",
    "# render('dot', 'png', arquivo)\n",
    "# render('dot', 'png', arquivo2)"
   ]
  },
  {
   "cell_type": "code",
   "execution_count": 9,
   "metadata": {},
   "outputs": [],
   "source": [
    "def get_matches(word):\n",
    "    resp = fst.checar_combinacoes(word)\n",
    "    #print(\"Total de palavras encontradas: \" + str(len(resp)) + \"\\n\")\n",
    "    return resp"
   ]
  },
  {
   "cell_type": "code",
   "execution_count": 10,
   "metadata": {},
   "outputs": [],
   "source": [
    "def get_matches_for(word):\n",
    "    matches = []\n",
    "    cont = 0\n",
    "    for w in words:\n",
    "        if w.startswith(word):\n",
    "            matches.append(w)\n",
    "            cont += 1\n",
    "    #print(\"Total de palavras encontradas: \" + str(len(matches)) + \"\\n\")\n",
    "    return matches"
   ]
  },
  {
   "cell_type": "code",
   "execution_count": 11,
   "metadata": {},
   "outputs": [],
   "source": [
    "def get_matches_binary_search(word):\n",
    "    num_words = len(words)\n",
    "    matches = []\n",
    "    cont = 0\n",
    "    ini = 0\n",
    "    fim = num_words - 1\n",
    "    atual = 0\n",
    "    \n",
    "    while ini <= fim:\n",
    "        atual = (ini + fim) // 2\n",
    "        if (words[atual].startswith(word)):\n",
    "            fim = -1\n",
    "        elif (words[atual] > word):\n",
    "            fim = atual - 1\n",
    "        else:\n",
    "            ini = atual + 1\n",
    "    \n",
    "    while words[atual-1].startswith(word):\n",
    "        atual -= 1\n",
    "\n",
    "    while words[atual].startswith(word) and atual < len(words)-1:\n",
    "        matches.append(words[atual])\n",
    "        cont += 1\n",
    "        atual += 1\n",
    "\n",
    "    if atual == len(words)-1:\n",
    "        if words[atual].startswith(word):\n",
    "            matches.append(words[atual])\n",
    "            cont += 1\n",
    "\n",
    "    #print(\"Total de palavras encontradas: \" + str(len(matches)) + \"\\n\")\n",
    "    return matches"
   ]
  },
  {
   "cell_type": "code",
   "execution_count": 13,
   "metadata": {},
   "outputs": [
    {
     "name": "stdout",
     "output_type": "stream",
     "text": [
      "800984\n",
      "144\n",
      "144\n",
      "144\n",
      "48\n"
     ]
    }
   ],
   "source": [
    "import sys\n",
    "print(sys.getsizeof(words))\n",
    "print(sys.getsizeof(get_matches))\n",
    "print(sys.getsizeof(get_matches_for))\n",
    "print(sys.getsizeof(get_matches_binary_search))\n",
    "print(sys.getsizeof(fst))"
   ]
  },
  {
   "cell_type": "code",
   "execution_count": 7,
   "metadata": {},
   "outputs": [
    {
     "name": "stdout",
     "output_type": "stream",
     "text": [
      "Palavras encontradas pelo método checar_combinacoes:  99119\n",
      "Palavras encontradas pelo método get_matches_for:  99119\n"
     ]
    }
   ],
   "source": [
    "teste = \"\"\n",
    "match1 = get_matches(teste)\n",
    "match2 = get_matches_for(teste)\n",
    "\n",
    "print(\"Palavras encontradas pelo método checar_combinacoes: \", len(match1))\n",
    "print(\"Palavras encontradas pelo método get_matches_for: \", len(match2))\n",
    "\n",
    "for m in match1:\n",
    "    if m not in match2:\n",
    "        print(\"Erro: \" + m + \" não está na lista de palavras encontradas pelo método get_matches_for\")\n",
    "\n",
    "for m in match2:\n",
    "    if m not in match1:\n",
    "        print(\"Erro: \" + m + \" não está na lista de palavras encontradas pelo método checar_combinacoes\")"
   ]
  },
  {
   "cell_type": "code",
   "execution_count": null,
   "metadata": {},
   "outputs": [],
   "source": [
    "print(len(get_matches(\"a\")))"
   ]
  },
  {
   "cell_type": "code",
   "execution_count": null,
   "metadata": {},
   "outputs": [],
   "source": [
    "print(len(get_matches_for(\"a\")))"
   ]
  },
  {
   "cell_type": "code",
   "execution_count": null,
   "metadata": {},
   "outputs": [],
   "source": [
    "print(get_matches_binary_search(\"A\"))"
   ]
  },
  {
   "cell_type": "code",
   "execution_count": null,
   "metadata": {},
   "outputs": [],
   "source": [
    "prefixos = set()\n",
    "\n",
    "for word in words:\n",
    "    for i in range(1, len(word)):\n",
    "        prefixo = word[:i]\n",
    "\n",
    "        if prefixo not in prefixos:\n",
    "            len1 = len(get_matches(prefixo))\n",
    "            try:\n",
    "                len2 = len(get_matches_binary_search(prefixo))\n",
    "            except:\n",
    "                print(prefixo, \"erro\")\n",
    "            \n",
    "\n",
    "            if len2 != len1:\n",
    "                print(prefixo, len1, len2)\n",
    "\n",
    "        prefixos.add(prefixo)\n",
    "\n"
   ]
  },
  {
   "cell_type": "code",
   "execution_count": null,
   "metadata": {},
   "outputs": [],
   "source": [
    "import tkinter as tk\n",
    "import timeit\n",
    "\n",
    "class AutocompleteText(tk.Text):\n",
    "    def __init__(self, *args, **kwargs):\n",
    "        self.callback = kwargs.pop(\"autocomplete\", None)\n",
    "        self.comparativo1 = kwargs.pop(\"comparativo1\", None)\n",
    "        super().__init__(*args, **kwargs)\n",
    "        self.bind(\"<Any-KeyRelease>\", self._autocomplete)\n",
    "        self.bind(\"<Tab>\", self._handle_tab)\n",
    "\n",
    "    def _handle_tab(self, event):\n",
    "        tag_ranges= self.tag_ranges(\"autocomplete\")\n",
    "        if tag_ranges:\n",
    "            self.mark_set(\"insert\", tag_ranges[1])\n",
    "            self.tag_remove(\"sel\", \"1.0\", \"end\")\n",
    "            self.tag_remove(\"autocomplete\", \"1.0\", \"end\")\n",
    "\n",
    "            return \"break\"\n",
    "\n",
    "    def _autocomplete(self, event):\n",
    "        if event.char and self.callback:\n",
    "            word = self.get(\"insert-1c wordstart\", \"insert-1c wordend\")\n",
    "            inicio = timeit.default_timer()\n",
    "            matches = self.callback(word)\n",
    "            fim = timeit.default_timer()\n",
    "\n",
    "            inicio2 = timeit.default_timer()\n",
    "            matches2 = self.comparativo1(word)\n",
    "            fim2 = timeit.default_timer()\n",
    "\n",
    "            text_tempo1[\"text\"] = \"Tempo de atualização I: \" + str(round((fim - inicio)*1000,3)) + \" ms\"\n",
    "\n",
    "            text_tempo2[\"text\"] = \"Tempo de atualização II: \" + str(round((fim2 - inicio2)*1000,3)) + \" ms\"\n",
    "\n",
    "            if matches:\n",
    "                remainder = matches[0][len(word):]\n",
    "                insert = self.index(\"insert\")\n",
    "                self.insert(insert, remainder, (\"sel\", \"autocomplete\"))\n",
    "                self.mark_set(\"insert\", insert)\n",
    "            \n",
    "            texto = \"Outras Sugestões: \\n\"\n",
    "            for match in matches[1:]:\n",
    "                texto += match + \"\\n\"\n",
    "            texto_outras_opcoes[\"text\"] = texto\n",
    "            \n",
    "\n",
    "root = tk.Tk()\n",
    "\n",
    "# titulo\n",
    "root.title(\"Autocomplete\")\n",
    "\n",
    "# tamanho da janela\n",
    "root.geometry(\"300x650\")\n",
    "\n",
    "# Label\n",
    "label = tk.Label(root, text=\"Digite uma palavra: \")\n",
    "label.pack(padx=10, pady=10)\n",
    "\n",
    "# texto\n",
    "text = AutocompleteText(root, autocomplete=get_matches, comparativo1 = get_matches_binary_search)\n",
    "text.pack(padx=10, pady=10)\n",
    "\n",
    "# Outras opções\n",
    "texto_outras_opcoes = tk.Label(root, text=\"Outras opções: \")\n",
    "texto_outras_opcoes.pack(padx=10, pady=10)\n",
    "\n",
    "# tempo de atualização\n",
    "text_tempo1 = tk.Label(root, text=\"Tempo de atualização I: \")\n",
    "text_tempo1.pack(padx=10, pady=5)\n",
    "\n",
    "# tempo de atualização\n",
    "text_tempo2 = tk.Label(root, text=\"Tempo de atualização II: \")\n",
    "text_tempo2.pack(padx=10, pady=5)\n",
    "\n",
    "root.mainloop()"
   ]
  },
  {
   "cell_type": "code",
   "execution_count": null,
   "metadata": {},
   "outputs": [],
   "source": [
    "class Teste:\n",
    "    def __init__(self, x, y):\n",
    "        self.x = x\n",
    "        self.y = y\n",
    "\n",
    "    def __eq__(self, other):\n",
    "        return self.x == other.x\n",
    "\n",
    "    def __hash__(self):\n",
    "        return hash((self.x, self.y))\n",
    "\n",
    "# Exemplo de uso\n",
    "objeto1 = Teste(1, 2)\n",
    "objeto2 = Teste(1, 2)\n",
    "objeto3 = Teste(1, 4)\n",
    "\n",
    "conjunto = set([objeto1, objeto2, objeto3])\n",
    "\n",
    "print(len(conjunto))\n",
    "\n",
    "print(objeto1 == objeto3)"
   ]
  }
 ],
 "metadata": {
  "kernelspec": {
   "display_name": "base",
   "language": "python",
   "name": "python3"
  },
  "language_info": {
   "codemirror_mode": {
    "name": "ipython",
    "version": 3
   },
   "file_extension": ".py",
   "mimetype": "text/x-python",
   "name": "python",
   "nbconvert_exporter": "python",
   "pygments_lexer": "ipython3",
   "version": "3.10.9"
  }
 },
 "nbformat": 4,
 "nbformat_minor": 2
}
